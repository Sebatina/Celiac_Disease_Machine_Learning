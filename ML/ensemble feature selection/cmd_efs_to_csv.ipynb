{
  "nbformat": 4,
  "nbformat_minor": 0,
  "metadata": {
    "colab": {
      "provenance": []
    },
    "kernelspec": {
      "name": "python3",
      "display_name": "Python 3"
    },
    "language_info": {
      "name": "python"
    }
  },
  "cells": [
    {
      "cell_type": "code",
      "source": [
        "from google.colab import drive\n",
        "drive.mount('/content/drive')"
      ],
      "metadata": {
        "colab": {
          "base_uri": "https://localhost:8080/"
        },
        "id": "GZumwC3DaqOr",
        "outputId": "aa24702e-dcf4-433b-f53f-5f49564c8a1e"
      },
      "execution_count": null,
      "outputs": [
        {
          "output_type": "stream",
          "name": "stdout",
          "text": [
            "Mounted at /content/drive\n"
          ]
        }
      ]
    },
    {
      "cell_type": "code",
      "execution_count": null,
      "metadata": {
        "id": "LKRzlr7xaVCf"
      },
      "outputs": [],
      "source": [
        "fh = open(\"/content/drive/MyDrive/sebatina/result_efs.txt\",\"r\")\n",
        "f = fh.readlines()"
      ]
    },
    {
      "cell_type": "code",
      "source": [
        "#checking no. of features\n",
        "\n",
        "from tqdm import tqdm\n",
        "import pandas as pd\n",
        "import re\n",
        "a =0\n",
        "\n",
        "df = pd.DataFrame()\n",
        "\n",
        "col1 =[]\n",
        "for i in range(0,9):\n",
        "  if i<9:\n",
        "    txt =f[i]\n",
        "    y = re.search(\"^[A-Z]\",txt)\n",
        "    if y:\n",
        "      col1.append(f[i].split(\" \")[0])\n",
        "# print(col1)\n",
        "df[\"feature/parametrs\"]=col1\n",
        "#df\n",
        "temp_data = []\n",
        "for i in range(0,len(f)-1):\n",
        "  x =re.search(\"^\\s+\",f[i])\n",
        "  if x :\n",
        "    temp_data=[]\n",
        "    featurename = f[i].strip().split()\n",
        "    #print(featurename)\n",
        "    temp_data.append(featurename)\n",
        "    a +=len(featurename)\n",
        "print(a)"
      ],
      "metadata": {
        "id": "QgDpcBRdwHHY"
      },
      "execution_count": null,
      "outputs": []
    },
    {
      "cell_type": "code",
      "source": [
        "from tqdm import tqdm\n",
        "import pandas as pd\n",
        "import re\n",
        "import warnings\n",
        "warnings.filterwarnings('ignore')\n",
        "\n",
        "df = pd.DataFrame()\n",
        "total =[]\n",
        "total.append(\" \")\n",
        "col1 =[]\n",
        "for i in range(0,9):\n",
        "  if i<9:\n",
        "    txt =f[i]\n",
        "    y = re.search(\"^[A-Z]\",txt)\n",
        "    if y:\n",
        "      col1.append(f[i].split(\" \")[0])\n",
        "# print(col1)\n",
        "df[\"feature/parametrs\"]=col1\n",
        "#df\n",
        "temp_data = []\n",
        "for i in tqdm(range(0,len(f)-1)):\n",
        "  x =re.search(\"^\\s+\",f[i])\n",
        "  if x :\n",
        "    temp_data=[]\n",
        "    featurename = f[i].strip().split()\n",
        "    # print(featurename)\n",
        "    temp_data.append(featurename)\n",
        "    # print(len(featurename))\n",
        "  else:\n",
        "    feature_data = f[i].split()[1:]\n",
        "    # print(feature_data)\n",
        "    temp_data.append(feature_data)\n",
        "    # print(len(temp_data))\n",
        "    if len(temp_data)==9:\n",
        "      # print(temp_data)\n",
        "      for i in range(0,len(temp_data[0])):\n",
        "        temp_feature = []\n",
        "        temp_feature.append(float(temp_data[1][i]))\n",
        "        temp_feature.append(float(temp_data[2][i]))\n",
        "        temp_feature.append(float(temp_data[3][i]))\n",
        "        temp_feature.append(float(temp_data[4][i]))\n",
        "        temp_feature.append(float(temp_data[5][i]))\n",
        "        temp_feature.append(float(temp_data[6][i]))\n",
        "        temp_feature.append(float(temp_data[7][i]))\n",
        "        temp_feature.append(float(temp_data[8][i]))\n",
        "        df[temp_data[0][i]] = temp_feature\n",
        "        total.append(sum(temp_feature))\n",
        "        if sum(temp_feature)>0.5:\n",
        "          print(temp_data[0][i])\n",
        "df.loc[len(df.index)] = total\n",
        "df.to_csv(\"efs_result.csv\")"
      ],
      "metadata": {
        "colab": {
          "base_uri": "https://localhost:8080/"
        },
        "id": "fcuUjQPtbHhk",
        "outputId": "a970f46e-5bcc-4e60-cc11-40aac23cc358"
      },
      "execution_count": 57,
      "outputs": [
        {
          "output_type": "stream",
          "name": "stderr",
          "text": [
            " 95%|█████████▌| 9414/9900 [00:04<00:00, 1528.93it/s]"
          ]
        },
        {
          "output_type": "stream",
          "name": "stdout",
          "text": [
            "BHAR880101.lag30.2\n"
          ]
        },
        {
          "output_type": "stream",
          "name": "stderr",
          "text": [
            "100%|██████████| 9900/9900 [00:04<00:00, 2068.29it/s]"
          ]
        },
        {
          "output_type": "stream",
          "name": "stdout",
          "text": [
            "Xc1.C\n"
          ]
        },
        {
          "output_type": "stream",
          "name": "stderr",
          "text": [
            "\n"
          ]
        }
      ]
    }
  ]
}